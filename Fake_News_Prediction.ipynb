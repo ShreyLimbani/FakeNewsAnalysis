{
  "nbformat": 4,
  "nbformat_minor": 0,
  "metadata": {
    "colab": {
      "name": "Fake News Prediction.ipynb",
      "provenance": [],
      "toc_visible": true
    },
    "kernelspec": {
      "name": "python3",
      "display_name": "Python 3"
    },
    "language_info": {
      "name": "python"
    }
  },
  "cells": [
    {
      "cell_type": "markdown",
      "metadata": {
        "id": "RA4BsV7Rv3au"
      },
      "source": [
        "Data"
      ]
    },
    {
      "cell_type": "code",
      "metadata": {
        "colab": {
          "base_uri": "https://localhost:8080/"
        },
        "id": "GZElouQzv26B",
        "outputId": "40c1ab71-803c-40ec-8063-fdea9ebacd0b"
      },
      "source": [
        "from google.colab import drive\n",
        "drive.mount('/content/drive')"
      ],
      "execution_count": null,
      "outputs": [
        {
          "output_type": "stream",
          "name": "stdout",
          "text": [
            "Mounted at /content/drive\n"
          ]
        }
      ]
    },
    {
      "cell_type": "markdown",
      "metadata": {
        "id": "oBi7D2Bgp_Ii"
      },
      "source": [
        "#Fake News Predictor\n"
      ]
    },
    {
      "cell_type": "markdown",
      "metadata": {
        "id": "Ifq8mfme8JKb"
      },
      "source": [
        "##Data"
      ]
    },
    {
      "cell_type": "code",
      "metadata": {
        "id": "nx4nraTgp586"
      },
      "source": [
        "import numpy as np\n",
        "import pandas as pd\n",
        "import itertools\n",
        "from sklearn.model_selection import train_test_split\n",
        "from sklearn.feature_extraction.text import TfidfVectorizer\n",
        "from sklearn.linear_model import PassiveAggressiveClassifier\n",
        "from sklearn.metrics import accuracy_score, confusion_matrix\n",
        "from keras.preprocessing.text import one_hot\n",
        "from keras.preprocessing.sequence import pad_sequences\n",
        "from keras.models import Sequential\n",
        "from keras.layers import Dense\n",
        "from keras.layers import Flatten\n",
        "from keras.layers.embeddings import Embedding\n",
        "import tensorflow as tf\n",
        "from sklearn.model_selection import train_test_split\n",
        "from keras import Sequential\n",
        "from keras.layers import Embedding, LSTM, Dense, Dropout"
      ],
      "execution_count": null,
      "outputs": []
    },
    {
      "cell_type": "code",
      "metadata": {
        "id": "lzmG7oPpq5tw"
      },
      "source": [
        "#Read the data\n",
        "df=pd.read_csv('/content/drive/MyDrive/Study/Fake News data/news.csv')"
      ],
      "execution_count": null,
      "outputs": []
    },
    {
      "cell_type": "code",
      "metadata": {
        "colab": {
          "base_uri": "https://localhost:8080/",
          "height": 206
        },
        "id": "NwVFjmSysB9y",
        "outputId": "cb37a795-7a40-40ea-ade2-3a408477e58b"
      },
      "source": [
        "#Get shape and head\n",
        "df.shape\n",
        "df.head()"
      ],
      "execution_count": null,
      "outputs": [
        {
          "output_type": "execute_result",
          "data": {
            "text/html": [
              "<div>\n",
              "<style scoped>\n",
              "    .dataframe tbody tr th:only-of-type {\n",
              "        vertical-align: middle;\n",
              "    }\n",
              "\n",
              "    .dataframe tbody tr th {\n",
              "        vertical-align: top;\n",
              "    }\n",
              "\n",
              "    .dataframe thead th {\n",
              "        text-align: right;\n",
              "    }\n",
              "</style>\n",
              "<table border=\"1\" class=\"dataframe\">\n",
              "  <thead>\n",
              "    <tr style=\"text-align: right;\">\n",
              "      <th></th>\n",
              "      <th>Unnamed: 0</th>\n",
              "      <th>title</th>\n",
              "      <th>text</th>\n",
              "      <th>label</th>\n",
              "    </tr>\n",
              "  </thead>\n",
              "  <tbody>\n",
              "    <tr>\n",
              "      <th>0</th>\n",
              "      <td>8476</td>\n",
              "      <td>You Can Smell Hillary’s Fear</td>\n",
              "      <td>Daniel Greenfield, a Shillman Journalism Fello...</td>\n",
              "      <td>FAKE</td>\n",
              "    </tr>\n",
              "    <tr>\n",
              "      <th>1</th>\n",
              "      <td>10294</td>\n",
              "      <td>Watch The Exact Moment Paul Ryan Committed Pol...</td>\n",
              "      <td>Google Pinterest Digg Linkedin Reddit Stumbleu...</td>\n",
              "      <td>FAKE</td>\n",
              "    </tr>\n",
              "    <tr>\n",
              "      <th>2</th>\n",
              "      <td>3608</td>\n",
              "      <td>Kerry to go to Paris in gesture of sympathy</td>\n",
              "      <td>U.S. Secretary of State John F. Kerry said Mon...</td>\n",
              "      <td>REAL</td>\n",
              "    </tr>\n",
              "    <tr>\n",
              "      <th>3</th>\n",
              "      <td>10142</td>\n",
              "      <td>Bernie supporters on Twitter erupt in anger ag...</td>\n",
              "      <td>— Kaydee King (@KaydeeKing) November 9, 2016 T...</td>\n",
              "      <td>FAKE</td>\n",
              "    </tr>\n",
              "    <tr>\n",
              "      <th>4</th>\n",
              "      <td>875</td>\n",
              "      <td>The Battle of New York: Why This Primary Matters</td>\n",
              "      <td>It's primary day in New York and front-runners...</td>\n",
              "      <td>REAL</td>\n",
              "    </tr>\n",
              "  </tbody>\n",
              "</table>\n",
              "</div>"
            ],
            "text/plain": [
              "   Unnamed: 0  ... label\n",
              "0        8476  ...  FAKE\n",
              "1       10294  ...  FAKE\n",
              "2        3608  ...  REAL\n",
              "3       10142  ...  FAKE\n",
              "4         875  ...  REAL\n",
              "\n",
              "[5 rows x 4 columns]"
            ]
          },
          "metadata": {},
          "execution_count": 8
        }
      ]
    },
    {
      "cell_type": "code",
      "metadata": {
        "colab": {
          "base_uri": "https://localhost:8080/"
        },
        "id": "mLBAeaNFIR8Y",
        "outputId": "70cf74e8-23ba-419f-9019-a415c0b22b84"
      },
      "source": [
        "df.label.size"
      ],
      "execution_count": null,
      "outputs": [
        {
          "output_type": "execute_result",
          "data": {
            "text/plain": [
              "6335"
            ]
          },
          "metadata": {},
          "execution_count": 9
        }
      ]
    },
    {
      "cell_type": "code",
      "metadata": {
        "id": "1L0qKCJe_Amc"
      },
      "source": [
        ""
      ],
      "execution_count": null,
      "outputs": []
    },
    {
      "cell_type": "code",
      "metadata": {
        "colab": {
          "base_uri": "https://localhost:8080/"
        },
        "id": "QJ8fRfMtJgLj",
        "outputId": "af553fb8-d60a-46f6-b4d6-e83076146b71"
      },
      "source": [
        "df.label"
      ],
      "execution_count": null,
      "outputs": [
        {
          "output_type": "execute_result",
          "data": {
            "text/plain": [
              "0       FAKE\n",
              "1       FAKE\n",
              "2       REAL\n",
              "3       FAKE\n",
              "4       REAL\n",
              "        ... \n",
              "6330    REAL\n",
              "6331    FAKE\n",
              "6332    FAKE\n",
              "6333    REAL\n",
              "6334    REAL\n",
              "Name: label, Length: 6335, dtype: object"
            ]
          },
          "metadata": {},
          "execution_count": 10
        }
      ]
    },
    {
      "cell_type": "code",
      "metadata": {
        "colab": {
          "base_uri": "https://localhost:8080/"
        },
        "id": "SxS59rNZq5qO",
        "outputId": "dd769406-6f8f-4660-9d9b-3ccf670c51f6"
      },
      "source": [
        "#Get the labels\n",
        "labels=df.label\n",
        "labels.head()"
      ],
      "execution_count": null,
      "outputs": [
        {
          "output_type": "execute_result",
          "data": {
            "text/plain": [
              "0    FAKE\n",
              "1    FAKE\n",
              "2    REAL\n",
              "3    FAKE\n",
              "4    REAL\n",
              "Name: label, dtype: object"
            ]
          },
          "metadata": {},
          "execution_count": 11
        }
      ]
    },
    {
      "cell_type": "markdown",
      "metadata": {
        "id": "f2ecggOf8E0l"
      },
      "source": [
        "## PAC"
      ]
    },
    {
      "cell_type": "code",
      "metadata": {
        "id": "AmIiY5J8q5nl"
      },
      "source": [
        "#Split the dataset\n",
        "x_train,x_test,y_train,y_test=train_test_split(df['text'], labels, test_size=0.2, random_state=7)"
      ],
      "execution_count": null,
      "outputs": []
    },
    {
      "cell_type": "code",
      "metadata": {
        "id": "oFPS-uz_q5lK"
      },
      "source": [
        "#Initialize a TfidfVectorizer\n",
        "tfidf_vectorizer=TfidfVectorizer(stop_words='english', max_df=0.7)"
      ],
      "execution_count": null,
      "outputs": []
    },
    {
      "cell_type": "code",
      "metadata": {
        "id": "1UjctqZpredE"
      },
      "source": [
        "#Fit and transform train set, transform test set\n",
        "tfidf_train=tfidf_vectorizer.fit_transform(x_train) \n",
        "tfidf_test=tfidf_vectorizer.transform(x_test)"
      ],
      "execution_count": null,
      "outputs": []
    },
    {
      "cell_type": "code",
      "metadata": {
        "id": "fnTB0PETq5il",
        "colab": {
          "base_uri": "https://localhost:8080/"
        },
        "outputId": "f9214c39-1318-450b-8e2e-4846a666fe9a"
      },
      "source": [
        "#Initialize a PassiveAggressiveClassifier\n",
        "pac=PassiveAggressiveClassifier(max_iter=50)\n",
        "pac.fit(tfidf_train,y_train)"
      ],
      "execution_count": null,
      "outputs": [
        {
          "output_type": "execute_result",
          "data": {
            "text/plain": [
              "PassiveAggressiveClassifier(max_iter=50)"
            ]
          },
          "metadata": {},
          "execution_count": 15
        }
      ]
    },
    {
      "cell_type": "code",
      "metadata": {
        "id": "UxSlT_NuxBEq"
      },
      "source": [
        "use_idf=True"
      ],
      "execution_count": null,
      "outputs": []
    },
    {
      "cell_type": "code",
      "metadata": {
        "id": "-K8hSApxh0bA",
        "colab": {
          "base_uri": "https://localhost:8080/"
        },
        "outputId": "f6ae3da4-cee0-4126-9c7d-fa149f7cefdf"
      },
      "source": [
        "#Predict on the train set and calculate accuracy\n",
        "y_pred_train=pac.predict(tfidf_train)\n",
        "score=accuracy_score(y_train,y_pred_train)\n",
        "print(f'Training Accuracy: {round(score*100,2)}%')"
      ],
      "execution_count": null,
      "outputs": [
        {
          "output_type": "stream",
          "name": "stdout",
          "text": [
            "Training Accuracy: 100.0%\n"
          ]
        }
      ]
    },
    {
      "cell_type": "code",
      "metadata": {
        "colab": {
          "base_uri": "https://localhost:8080/"
        },
        "id": "m1tf9XbRACJ9",
        "outputId": "698cef93-6c04-4a59-92e1-57d3379d5d9f"
      },
      "source": [
        "#Build confusion matrix\n",
        "confusion_matrix(y_train,y_pred_train, labels=['FAKE','REAL'])"
      ],
      "execution_count": null,
      "outputs": [
        {
          "output_type": "execute_result",
          "data": {
            "text/plain": [
              "array([[2526,    0],\n",
              "       [   0, 2542]])"
            ]
          },
          "metadata": {},
          "execution_count": 18
        }
      ]
    },
    {
      "cell_type": "code",
      "metadata": {
        "colab": {
          "base_uri": "https://localhost:8080/"
        },
        "id": "gyYnM9MprcP_",
        "outputId": "0de77346-d0bd-4f63-efb3-1f4633e97fc4"
      },
      "source": [
        "#Predict on the test set and calculate accuracy\n",
        "y_pred=pac.predict(tfidf_test)\n",
        "score=accuracy_score(y_test,y_pred)\n",
        "print(f'Testing Accuracy: {round(score*100,2)}%')"
      ],
      "execution_count": null,
      "outputs": [
        {
          "output_type": "stream",
          "name": "stdout",
          "text": [
            "Testing Accuracy: 92.74%\n"
          ]
        }
      ]
    },
    {
      "cell_type": "code",
      "metadata": {
        "colab": {
          "base_uri": "https://localhost:8080/"
        },
        "id": "up0DJWtBq5gA",
        "outputId": "7aa6c811-58b8-452e-b5fb-18b590588e3a"
      },
      "source": [
        "#Build confusion matrix\n",
        "confusion_matrix(y_test,y_pred, labels=['FAKE','REAL'])"
      ],
      "execution_count": null,
      "outputs": [
        {
          "output_type": "execute_result",
          "data": {
            "text/plain": [
              "array([[588,  50],\n",
              "       [ 42, 587]])"
            ]
          },
          "metadata": {},
          "execution_count": 20
        }
      ]
    },
    {
      "cell_type": "code",
      "metadata": {
        "id": "wqRDsaQxymGe"
      },
      "source": [
        "def predictor(newsline):\n",
        "  data =[newsline]\n",
        "  df3= pd.DataFrame(data, columns = ['Text']) \n",
        "  nl = tfidf_vectorizer.transform(df3)\n",
        "  prediction = pac.predict(nl)\n",
        "  return prediction[0]"
      ],
      "execution_count": null,
      "outputs": []
    },
    {
      "cell_type": "code",
      "metadata": {
        "id": "p__qTmCbueVB"
      },
      "source": [
        "newsline=\"Donald Trump killed Messi in a Football Match\"\n",
        "predictor(newsline)"
      ],
      "execution_count": null,
      "outputs": []
    },
    {
      "cell_type": "code",
      "metadata": {
        "id": "rW5PViwwFcYh"
      },
      "source": [
        "newsline=\"Obama was a US President\"\n",
        "predictor(newsline)"
      ],
      "execution_count": null,
      "outputs": []
    },
    {
      "cell_type": "code",
      "metadata": {
        "id": "0_uYDljh_gts"
      },
      "source": [
        "predictor(df.iloc[4].text)"
      ],
      "execution_count": null,
      "outputs": []
    },
    {
      "cell_type": "markdown",
      "metadata": {
        "id": "tZjaM2V_MWCl"
      },
      "source": [
        "Suggestions"
      ]
    },
    {
      "cell_type": "code",
      "metadata": {
        "id": "utLHGjl2yrUK"
      },
      "source": [
        "tfidf, naive baise"
      ],
      "execution_count": null,
      "outputs": []
    },
    {
      "cell_type": "code",
      "metadata": {
        "id": "vo5yF7fjk4EI"
      },
      "source": [
        "Dataset  dakshit google "
      ],
      "execution_count": null,
      "outputs": []
    },
    {
      "cell_type": "code",
      "metadata": {
        "id": "uSEc1n7XlPq5"
      },
      "source": [
        "stop words"
      ],
      "execution_count": null,
      "outputs": []
    },
    {
      "cell_type": "markdown",
      "metadata": {
        "id": "IkqQmlbSMX5T"
      },
      "source": [
        "## LSTM"
      ]
    },
    {
      "cell_type": "code",
      "metadata": {
        "id": "UeC7Z3fcK-01"
      },
      "source": [
        "df['labels'] = np.where(df['label'] == \"REAL\", 1, 0)"
      ],
      "execution_count": null,
      "outputs": []
    },
    {
      "cell_type": "code",
      "metadata": {
        "colab": {
          "base_uri": "https://localhost:8080/",
          "height": 423
        },
        "id": "O9KphCpi6uB6",
        "outputId": "0e3f6fa5-ecbd-4a9b-a116-03cb0e83006b"
      },
      "source": [
        "df"
      ],
      "execution_count": null,
      "outputs": [
        {
          "output_type": "execute_result",
          "data": {
            "text/html": [
              "<div>\n",
              "<style scoped>\n",
              "    .dataframe tbody tr th:only-of-type {\n",
              "        vertical-align: middle;\n",
              "    }\n",
              "\n",
              "    .dataframe tbody tr th {\n",
              "        vertical-align: top;\n",
              "    }\n",
              "\n",
              "    .dataframe thead th {\n",
              "        text-align: right;\n",
              "    }\n",
              "</style>\n",
              "<table border=\"1\" class=\"dataframe\">\n",
              "  <thead>\n",
              "    <tr style=\"text-align: right;\">\n",
              "      <th></th>\n",
              "      <th>Unnamed: 0</th>\n",
              "      <th>title</th>\n",
              "      <th>text</th>\n",
              "      <th>label</th>\n",
              "      <th>labels</th>\n",
              "    </tr>\n",
              "  </thead>\n",
              "  <tbody>\n",
              "    <tr>\n",
              "      <th>0</th>\n",
              "      <td>8476</td>\n",
              "      <td>You Can Smell Hillary’s Fear</td>\n",
              "      <td>Daniel Greenfield, a Shillman Journalism Fello...</td>\n",
              "      <td>FAKE</td>\n",
              "      <td>0</td>\n",
              "    </tr>\n",
              "    <tr>\n",
              "      <th>1</th>\n",
              "      <td>10294</td>\n",
              "      <td>Watch The Exact Moment Paul Ryan Committed Pol...</td>\n",
              "      <td>Google Pinterest Digg Linkedin Reddit Stumbleu...</td>\n",
              "      <td>FAKE</td>\n",
              "      <td>0</td>\n",
              "    </tr>\n",
              "    <tr>\n",
              "      <th>2</th>\n",
              "      <td>3608</td>\n",
              "      <td>Kerry to go to Paris in gesture of sympathy</td>\n",
              "      <td>U.S. Secretary of State John F. Kerry said Mon...</td>\n",
              "      <td>REAL</td>\n",
              "      <td>1</td>\n",
              "    </tr>\n",
              "    <tr>\n",
              "      <th>3</th>\n",
              "      <td>10142</td>\n",
              "      <td>Bernie supporters on Twitter erupt in anger ag...</td>\n",
              "      <td>— Kaydee King (@KaydeeKing) November 9, 2016 T...</td>\n",
              "      <td>FAKE</td>\n",
              "      <td>0</td>\n",
              "    </tr>\n",
              "    <tr>\n",
              "      <th>4</th>\n",
              "      <td>875</td>\n",
              "      <td>The Battle of New York: Why This Primary Matters</td>\n",
              "      <td>It's primary day in New York and front-runners...</td>\n",
              "      <td>REAL</td>\n",
              "      <td>1</td>\n",
              "    </tr>\n",
              "    <tr>\n",
              "      <th>...</th>\n",
              "      <td>...</td>\n",
              "      <td>...</td>\n",
              "      <td>...</td>\n",
              "      <td>...</td>\n",
              "      <td>...</td>\n",
              "    </tr>\n",
              "    <tr>\n",
              "      <th>6330</th>\n",
              "      <td>4490</td>\n",
              "      <td>State Department says it can't find emails fro...</td>\n",
              "      <td>The State Department told the Republican Natio...</td>\n",
              "      <td>REAL</td>\n",
              "      <td>1</td>\n",
              "    </tr>\n",
              "    <tr>\n",
              "      <th>6331</th>\n",
              "      <td>8062</td>\n",
              "      <td>The ‘P’ in PBS Should Stand for ‘Plutocratic’ ...</td>\n",
              "      <td>The ‘P’ in PBS Should Stand for ‘Plutocratic’ ...</td>\n",
              "      <td>FAKE</td>\n",
              "      <td>0</td>\n",
              "    </tr>\n",
              "    <tr>\n",
              "      <th>6332</th>\n",
              "      <td>8622</td>\n",
              "      <td>Anti-Trump Protesters Are Tools of the Oligarc...</td>\n",
              "      <td>Anti-Trump Protesters Are Tools of the Oligar...</td>\n",
              "      <td>FAKE</td>\n",
              "      <td>0</td>\n",
              "    </tr>\n",
              "    <tr>\n",
              "      <th>6333</th>\n",
              "      <td>4021</td>\n",
              "      <td>In Ethiopia, Obama seeks progress on peace, se...</td>\n",
              "      <td>ADDIS ABABA, Ethiopia —President Obama convene...</td>\n",
              "      <td>REAL</td>\n",
              "      <td>1</td>\n",
              "    </tr>\n",
              "    <tr>\n",
              "      <th>6334</th>\n",
              "      <td>4330</td>\n",
              "      <td>Jeb Bush Is Suddenly Attacking Trump. Here's W...</td>\n",
              "      <td>Jeb Bush Is Suddenly Attacking Trump. Here's W...</td>\n",
              "      <td>REAL</td>\n",
              "      <td>1</td>\n",
              "    </tr>\n",
              "  </tbody>\n",
              "</table>\n",
              "<p>6335 rows × 5 columns</p>\n",
              "</div>"
            ],
            "text/plain": [
              "      Unnamed: 0  ... labels\n",
              "0           8476  ...      0\n",
              "1          10294  ...      0\n",
              "2           3608  ...      1\n",
              "3          10142  ...      0\n",
              "4            875  ...      1\n",
              "...          ...  ...    ...\n",
              "6330        4490  ...      1\n",
              "6331        8062  ...      0\n",
              "6332        8622  ...      0\n",
              "6333        4021  ...      1\n",
              "6334        4330  ...      1\n",
              "\n",
              "[6335 rows x 5 columns]"
            ]
          },
          "metadata": {},
          "execution_count": 6
        }
      ]
    },
    {
      "cell_type": "code",
      "metadata": {
        "colab": {
          "base_uri": "https://localhost:8080/"
        },
        "id": "d4JezB2m6zTO",
        "outputId": "8ac9e84d-f8c4-4f15-ed40-c5b92a23f2b4"
      },
      "source": [
        "labels=df.labels\n",
        "labels.head()"
      ],
      "execution_count": null,
      "outputs": [
        {
          "output_type": "execute_result",
          "data": {
            "text/plain": [
              "0    0\n",
              "1    0\n",
              "2    1\n",
              "3    0\n",
              "4    1\n",
              "Name: labels, dtype: int64"
            ]
          },
          "metadata": {},
          "execution_count": 8
        }
      ]
    },
    {
      "cell_type": "code",
      "metadata": {
        "id": "US_KkrEuMVZf"
      },
      "source": [
        "def input_padded_oh(docs, max_length):\n",
        "\n",
        "  # integer encode the documents\n",
        "  encoded_docs = [one_hot(d, vocab_size) for d in docs]\n",
        "  \n",
        "  # pad documents to a max length of 4 words\n",
        "  padded_docs = pad_sequences(encoded_docs, maxlen=max_length, padding='post')\n",
        "  \n",
        "  return padded_docs"
      ],
      "execution_count": null,
      "outputs": []
    },
    {
      "cell_type": "code",
      "metadata": {
        "id": "UKJNuRgheSFp"
      },
      "source": [
        "max_words = 250\n",
        "vocab_size = 2500"
      ],
      "execution_count": null,
      "outputs": []
    },
    {
      "cell_type": "code",
      "metadata": {
        "id": "413zCKDWdnTY"
      },
      "source": [
        "from sklearn.model_selection import train_test_split\n",
        "X_train, X_test, y_train, y_test = train_test_split(df['text'],labels,test_size=0.3)"
      ],
      "execution_count": null,
      "outputs": []
    },
    {
      "cell_type": "code",
      "metadata": {
        "id": "7G-fU8ihd61l"
      },
      "source": [
        "#X_train = pad_sequences(X_train, maxlen=max_words)\n",
        "X_train = input_padded_oh(X_train, max_words)"
      ],
      "execution_count": null,
      "outputs": []
    },
    {
      "cell_type": "code",
      "metadata": {
        "id": "VaMXN4DlE6PB"
      },
      "source": [
        "#X_test = pad_sequences(X_test, maxlen=max_words)\n",
        "X_test = input_padded_oh(X_test, max_words)"
      ],
      "execution_count": null,
      "outputs": []
    },
    {
      "cell_type": "code",
      "metadata": {
        "id": "1b18-sBtejou",
        "colab": {
          "base_uri": "https://localhost:8080/"
        },
        "outputId": "6e78fd1d-5db7-47b6-d787-5f5b745028b7"
      },
      "source": [
        "from keras import Sequential\n",
        "from keras.layers import Embedding, LSTM, Dense, Dropout\n",
        "embedding_size=32\n",
        "model=Sequential()\n",
        "model.add(Embedding(vocab_size, embedding_size, input_length=max_words))\n",
        "model.add(LSTM(100))\n",
        "model.add(Dense(1, activation='sigmoid'))\n",
        "print(model.summary())"
      ],
      "execution_count": null,
      "outputs": [
        {
          "output_type": "stream",
          "name": "stdout",
          "text": [
            "Model: \"sequential\"\n",
            "_________________________________________________________________\n",
            " Layer (type)                Output Shape              Param #   \n",
            "=================================================================\n",
            " embedding (Embedding)       (None, 250, 32)           80000     \n",
            "                                                                 \n",
            " lstm (LSTM)                 (None, 100)               53200     \n",
            "                                                                 \n",
            " dense (Dense)               (None, 1)                 101       \n",
            "                                                                 \n",
            "=================================================================\n",
            "Total params: 133,301\n",
            "Trainable params: 133,301\n",
            "Non-trainable params: 0\n",
            "_________________________________________________________________\n",
            "None\n"
          ]
        }
      ]
    },
    {
      "cell_type": "code",
      "metadata": {
        "id": "9SybwUTWfGmr"
      },
      "source": [
        "metrics = tf.keras.metrics.BinaryAccuracy()\n",
        "loss = tf.keras.losses.BinaryCrossentropy(from_logits=True)"
      ],
      "execution_count": null,
      "outputs": []
    },
    {
      "cell_type": "code",
      "metadata": {
        "id": "3j1ZNGNxfIVZ"
      },
      "source": [
        "# compile the model\n",
        "model.compile(optimizer='adam', loss=loss, metrics=metrics)"
      ],
      "execution_count": null,
      "outputs": []
    },
    {
      "cell_type": "code",
      "metadata": {
        "colab": {
          "base_uri": "https://localhost:8080/"
        },
        "id": "jzprhQ99HwUS",
        "outputId": "4ddcabbe-083c-4e3e-ab90-2101d103c792"
      },
      "source": [
        "labels.dtypes"
      ],
      "execution_count": null,
      "outputs": [
        {
          "output_type": "execute_result",
          "data": {
            "text/plain": [
              "dtype('int64')"
            ]
          },
          "metadata": {},
          "execution_count": 18
        }
      ]
    },
    {
      "cell_type": "code",
      "metadata": {
        "colab": {
          "base_uri": "https://localhost:8080/"
        },
        "id": "vVM4Dg89KEVu",
        "outputId": "c10ddf6b-95d8-4711-d35f-a29c2f02a3bc"
      },
      "source": [
        "x_test.shape"
      ],
      "execution_count": null,
      "outputs": [
        {
          "output_type": "execute_result",
          "data": {
            "text/plain": [
              "(1267,)"
            ]
          },
          "metadata": {},
          "execution_count": 91
        }
      ]
    },
    {
      "cell_type": "code",
      "metadata": {
        "id": "fixd8m8-fOVZ",
        "colab": {
          "base_uri": "https://localhost:8080/"
        },
        "outputId": "22e08b1f-70c7-4bb4-8672-f6d8e3442cdd"
      },
      "source": [
        "# fit the model\n",
        "#model.fit(X_train, y_train, epochs=500, verbose=0)\n",
        "batch_size = 64\n",
        "num_epochs = 3\n",
        "X_valid, y_valid = X_train[:batch_size], y_train[:batch_size]\n",
        "X_train2, y_train2 = X_train[batch_size:], y_train[batch_size:]\n",
        "model.fit(X_train2, y_train2, validation_data=(X_valid, y_valid), batch_size=batch_size, epochs=num_epochs)"
      ],
      "execution_count": null,
      "outputs": [
        {
          "output_type": "stream",
          "name": "stdout",
          "text": [
            "Epoch 1/3\n"
          ]
        },
        {
          "output_type": "stream",
          "name": "stderr",
          "text": [
            "/usr/local/lib/python3.7/dist-packages/tensorflow/python/util/dispatch.py:1096: UserWarning: \"`binary_crossentropy` received `from_logits=True`, but the `output` argument was produced by a sigmoid or softmax activation and thus does not represent logits. Was this intended?\"\n",
            "  return dispatch_target(*args, **kwargs)\n"
          ]
        },
        {
          "output_type": "stream",
          "name": "stdout",
          "text": [
            "69/69 [==============================] - 20s 257ms/step - loss: 0.6629 - binary_accuracy: 0.6275 - val_loss: 0.6406 - val_binary_accuracy: 0.7031\n",
            "Epoch 2/3\n",
            "69/69 [==============================] - 17s 249ms/step - loss: 0.5474 - binary_accuracy: 0.7492 - val_loss: 0.5537 - val_binary_accuracy: 0.7031\n",
            "Epoch 3/3\n",
            "69/69 [==============================] - 17s 249ms/step - loss: 0.3978 - binary_accuracy: 0.8243 - val_loss: 0.5370 - val_binary_accuracy: 0.6719\n"
          ]
        },
        {
          "output_type": "execute_result",
          "data": {
            "text/plain": [
              "<keras.callbacks.History at 0x7fd4f8748790>"
            ]
          },
          "metadata": {},
          "execution_count": 19
        }
      ]
    },
    {
      "cell_type": "code",
      "metadata": {
        "id": "2L59QnmdfujV",
        "colab": {
          "base_uri": "https://localhost:8080/"
        },
        "outputId": "2118fa03-9318-48bb-de0e-7dca931c6e05"
      },
      "source": [
        "# evaluate the model\n",
        "scores = model.evaluate(X_test, y_test, verbose=0)\n",
        "print('Test accuracy:', scores[1])"
      ],
      "execution_count": null,
      "outputs": [
        {
          "output_type": "stream",
          "name": "stderr",
          "text": [
            "/usr/local/lib/python3.7/dist-packages/tensorflow/python/util/dispatch.py:1096: UserWarning: \"`binary_crossentropy` received `from_logits=True`, but the `output` argument was produced by a sigmoid or softmax activation and thus does not represent logits. Was this intended?\"\n",
            "  return dispatch_target(*args, **kwargs)\n"
          ]
        },
        {
          "output_type": "stream",
          "name": "stdout",
          "text": [
            "Test accuracy: 0.7648605704307556\n"
          ]
        }
      ]
    },
    {
      "cell_type": "code",
      "metadata": {
        "colab": {
          "base_uri": "https://localhost:8080/",
          "height": 140
        },
        "id": "FkhCPS5t7txo",
        "outputId": "9a7539a4-6f1b-4f3e-b05c-ca2ee0f8f1d5"
      },
      "source": [
        "df.iloc[4].text"
      ],
      "execution_count": null,
      "outputs": [
        {
          "output_type": "execute_result",
          "data": {
            "application/vnd.google.colaboratory.intrinsic+json": {
              "type": "string"
            },
            "text/plain": [
              "'It\\'s primary day in New York and front-runners Hillary Clinton and Donald Trump are leading in the polls.\\n\\nTrump is now vowing to win enough delegates to clinch the Republican nomination and prevent a contested convention. But Sens.Ted Cruz, R-Texas, Bernie Sanders, D-Vt., and Ohio Gov. John Kasich and aren\\'t giving up just yet.\\n\\nA big win in New York could tip the scales for both the Republican and Democratic front-runners in this year\\'s race for the White House. Clinton and Trump have each suffered losses in recent contests, shifting the momentum to their rivals.\\n\\n\"We have won eight out of the last nine caucuses and primaries! Cheer!\" Sanders recently told supporters.\\n\\nWhile wins in New York for Trump and Clinton are expected, the margins of those victories are also important.\\n\\nTrump needs to capture more than 50 percent of the vote statewide if he wants to be positioned to win all of the state\\'s 95 GOP delegates. That would put him one step closer to avoiding a contested convention.\\n\\n\"We\\'ve got to vote and you know Cruz is way, way down in the polls,\" Trump urged supporters.\\n\\nMeanwhile, Sanders is hoping for a close race in the Empire State. A loss by 10 points means he\\'ll need to win 80 percent of the remaining delegates to clinch the nomination.\\n\\nDespite a predicted loss in New York, Cruz hasn\\'t lost momentum. He\\'s hoping to sweep up more delegates this weekend while he\\'s talking about how he can win in November.\\n\\n\"Because if I\\'m the nominee, we win the General Election,\" Cruz promised his supporters. \"We\\'re beating Hillary in the key swing states, we\\'re beating Hillary with Independents, we\\'re beating Hillary with young people.\"\\n\\nFor now, Cruz, Kasich, and Sanders have all moved on from New York to other states. Trump and Clinton are the only two staying in their home state to watch the results come in.'"
            ]
          },
          "metadata": {},
          "execution_count": 21
        }
      ]
    },
    {
      "cell_type": "code",
      "metadata": {
        "colab": {
          "base_uri": "https://localhost:8080/"
        },
        "id": "i-BAcQE57g1q",
        "outputId": "2d43ac59-2ada-4b41-84cd-10079150446f"
      },
      "source": [
        "# Test1\n",
        "line=df.iloc[4].text\n",
        "x= one_hot(line, vocab_size)\n",
        "x= pad_sequences([x], maxlen=max_words, padding='post')\n",
        "print(model.predict(x))"
      ],
      "execution_count": null,
      "outputs": [
        {
          "output_type": "stream",
          "name": "stdout",
          "text": [
            "[[0.7575027]]\n"
          ]
        }
      ]
    },
    {
      "cell_type": "code",
      "metadata": {
        "colab": {
          "base_uri": "https://localhost:8080/"
        },
        "id": "CmzCoDpA7yLk",
        "outputId": "f01afdea-1d1f-46fb-b412-9625dc7562e4"
      },
      "source": [
        "# Test2\n",
        "line=df.iloc[3].text\n",
        "x= one_hot(line, vocab_size)\n",
        "x= pad_sequences([x], maxlen=max_words, padding='post')\n",
        "print(model.predict(x))"
      ],
      "execution_count": null,
      "outputs": [
        {
          "output_type": "stream",
          "name": "stdout",
          "text": [
            "[[0.12322134]]\n"
          ]
        }
      ]
    },
    {
      "cell_type": "code",
      "metadata": {
        "id": "LB9X7yys7-mk"
      },
      "source": [
        ""
      ],
      "execution_count": null,
      "outputs": []
    },
    {
      "cell_type": "code",
      "metadata": {
        "id": "qe_a2dlY6SCB"
      },
      "source": [
        ""
      ],
      "execution_count": null,
      "outputs": []
    },
    {
      "cell_type": "markdown",
      "metadata": {
        "id": "BVy6pfBg6TOG"
      },
      "source": [
        "# Keyword Extraction"
      ]
    },
    {
      "cell_type": "code",
      "metadata": {
        "id": "ewlpNMUy6kps"
      },
      "source": [
        ""
      ],
      "execution_count": null,
      "outputs": []
    },
    {
      "cell_type": "code",
      "metadata": {
        "colab": {
          "base_uri": "https://localhost:8080/"
        },
        "id": "wRixfH6kQCeE",
        "outputId": "32919fb5-9a9a-450d-dae4-4db8fb4166f9"
      },
      "source": [
        " nltk.download('stopwords')"
      ],
      "execution_count": null,
      "outputs": [
        {
          "output_type": "stream",
          "name": "stdout",
          "text": [
            "[nltk_data] Downloading package stopwords to /root/nltk_data...\n",
            "[nltk_data]   Unzipping corpora/stopwords.zip.\n"
          ]
        },
        {
          "output_type": "execute_result",
          "data": {
            "text/plain": [
              "True"
            ]
          },
          "metadata": {},
          "execution_count": 3
        }
      ]
    },
    {
      "cell_type": "code",
      "metadata": {
        "colab": {
          "base_uri": "https://localhost:8080/"
        },
        "id": "arbd9BPGQI__",
        "outputId": "45a31994-65fa-4534-c6f8-28f7e7066f81"
      },
      "source": [
        "nltk.download('punkt')"
      ],
      "execution_count": null,
      "outputs": [
        {
          "output_type": "stream",
          "name": "stdout",
          "text": [
            "[nltk_data] Downloading package punkt to /root/nltk_data...\n",
            "[nltk_data]   Unzipping tokenizers/punkt.zip.\n"
          ]
        },
        {
          "output_type": "execute_result",
          "data": {
            "text/plain": [
              "True"
            ]
          },
          "metadata": {},
          "execution_count": 4
        }
      ]
    },
    {
      "cell_type": "code",
      "metadata": {
        "colab": {
          "base_uri": "https://localhost:8080/"
        },
        "id": "JgyIwAekQMck",
        "outputId": "b5ebbeb7-fb8d-4a48-ccc9-d2c588392830"
      },
      "source": [
        "nltk.download('wordnet')"
      ],
      "execution_count": null,
      "outputs": [
        {
          "output_type": "stream",
          "name": "stdout",
          "text": [
            "[nltk_data] Downloading package wordnet to /root/nltk_data...\n",
            "[nltk_data]   Unzipping corpora/wordnet.zip.\n"
          ]
        },
        {
          "output_type": "execute_result",
          "data": {
            "text/plain": [
              "True"
            ]
          },
          "metadata": {},
          "execution_count": 5
        }
      ]
    },
    {
      "cell_type": "code",
      "metadata": {
        "id": "IY_h_4vwPXek"
      },
      "source": [
        "#use this to scrap data from web\n",
        "scraped_data = urllib.request.urlopen('https://www.indiatravelblog.com/resources/6138-a-day-trip-to-chittorgarh-from-udaipur')\n",
        "article = scraped_data.read()\n",
        "\n",
        "parsed_article = bs.BeautifulSoup(article,'lxml')\n",
        "\n",
        "paragraphs = parsed_article.find_all('p')\n",
        "\n",
        "article_text = \"\"\n",
        "\n",
        "for p in paragraphs:\n",
        "    article_text += p.text"
      ],
      "execution_count": null,
      "outputs": []
    },
    {
      "cell_type": "code",
      "metadata": {
        "colab": {
          "base_uri": "https://localhost:8080/",
          "height": 165
        },
        "id": "iOfBZ5z8Prah",
        "outputId": "137a7a9c-ab23-4b5c-9c02-71689d9fed4e"
      },
      "source": [
        "article_text"
      ],
      "execution_count": null,
      "outputs": [
        {
          "output_type": "execute_result",
          "data": {
            "application/vnd.google.colaboratory.intrinsic+json": {
              "type": "string"
            },
            "text/plain": [
              "\"\\nAre you visiting Udaipur in Rajasthan? Plan a one day trip to Chittorgarh Fort, when deciding on an itinerary. The Chittorgarh Fort is the biggest fort in India, with magnificent architecture and vibrant and exciting history, of valiant kings, battles and sieges, and tales of romance and Jauhar.\\nI was in Udaipur, for a friend's son's wedding, where I met up with a bunch of old friends. We extended our stay by a few days, and spent the time, exploring places of interest around this beautiful city. It was the time when the movie Padmavat was in the news, hogging primetime debates on national television, and eliciting quite a controversy. Curiosity got the better of us, and we couldn't resist the urge to visit Chittorgarh, the famed site where history was created. We set off early, seated comfortably in a Tempo Traveller, booked the previous evening. Chittorgarh is roughly 115 km from Udaipur, and it takes just over 2 ½ hours to reach. It's a comfortable stretch on well-laid National Highways. I mention this, because it's good enough for a road trip, on a bike or car. Public transport, between the two cities, is good too. \\n\\n\\n\\r\\n     (adsbygoogle = window.adsbygoogle || []).push({});\\r\\nThe driver's assistant (Kuldip) acted as our unofficial tour guide. Kuldip qualified for the part, born and brought up, as he was, in those parts. He had many a tale of romance and bravery to share. Of course, none could be authenticated, but his constant jabber kept us engaged and piqued our interest. Chittorgarh HistoryChittorgarh has a rich history, and it gives you a sense of being on 'hallowed' ground, where many a mighty warrior once roamed. There is a lot to see and do, in this place, that was once the capital of Mewar. Every structure standing here bears testimony to its great heritage. The imposing fort and the striking temples, the spectacular palaces and the monumental towers, all have a story to tell. They stand testimony of honour, valour, passion, loyalty and sacrifice of a bygone era. The history of Chittorgarh is captivating, stories of battles and bloody siege. Tales of heroism, fortitude and romance, stories of death and destruction. Legends of queens and aristocratic women sacrificing their lives in Jauhar. These fascinating stories have the power of captivating an eager audience. And over the years these tales have been immortalised into ballads and folk songs.  One such folklore that has been around for centuries, but only recently caught the nation's attention is that of the famed Rajput queen Padmini, also known as Rani Padmavati. Legend has it that the beautiful queen lived in Chittorgarh during the 13th – 14th century. A tour of the Chittorgarh FortOnce you're there, you can't stop being in awe of the place. I got goosebumps, as I stood admiring the sheer size and grandeur of the fort. It is a magnificent structure, standing atop a 180-metre-high hill, spreading across roughly 692 acres, offering panoramic views of the surrounding countryside. It has the distinction of being the largest fort in the country. That must tell you something about its size and grandiose.The Chittorgarh Fort is one of the eight sites, in Rajasthan, declared as UNESCO World Heritage Sites. There is no concrete evidence on who built it, but historians estimate that it was raised in the 7th century, during the reign of the Mauryan Empire. The splendour of the fort is not limited to its size and dimensions. It is also recognised for its unique and well-perceived architecture. There are 84 artificially made reservoirs around the fort, and they are a pure genius — their presence illustrates the well-thought-of construction, in medieval times. The water bodies were so designed that they could hold sufficient water to meet the water requirements for a fleet of 50,000 soldiers for four years running. Seven gates lead to the fort; the main entrance is called Ram Pol. The gates were designed intelligently to prevent the enemy from entering or attacking the fort. What you see today are the ruins, but they paint such a compelling picture of a glorious past. Not everything is run and torn down; we were told around 65 monuments still stand, mainly palaces, temples, towers and cenotaphs. The victory towers are the most striking structures. Myths of ChittorgarhKuldip regaled us with many anecdotes; some seemed farfetched, but legends are part of the belief of people. One titbit that he shared with us was that the Bhim (one of the Pandava) built the fort, in one night. Another fascinating story was on how Bhimlat Kund, one of the 84 reservoirs got its name. Myth has it that Bhim became thirsty, and there was no water on the hilltop. So, he struck the ground and water appeared in that spot. \\n\\n\\n\\r\\n     (adsbygoogle = window.adsbygoogle || []).push({});\\r\\nLegend of Rani Padmini or PadmavatiAccording to legend, Padmavati was a strikingly beautiful princess, married to Raja Ratan Singh, the ruler of Mewar. Her gorgeous good looks resulted in her being the central character for numerous ballads and narratives. She is the subject of several folktales originating in the region. The most famous piece on her is credited to Sufi poet, Malik Muhammad Jayasi. His poem romanticised the legendary queen, giving her a mystical aura. The ballad, titled Padmavat, reads like a fairytale, centring around talking parrots extolling the beauty of the queen and the drama that unfolded, involving Ratan Singh and Allaudin Khiji and ending with Padmavat committing Jauhar. What parts are facts and which fiction is not known.Stories of Akbar's siege on ChittorgarhAnother bit of 'history' shared by Kuldip was that of Akbar. According to the story, Rana Uday Singh's son joined hands with the Mughal emperor, only to learn that he was planning on conquering Chittorgarh. The son returned to appraise Rana Uday Singh, but from then on, the narrative turned sketchy. Some versions spoke of the Rana winning, others of him escaping… However, the Vijay Stambh within the fort is evidence of a battle having been won. Whether the Rana defeated Akbar's army or Khilji's troupes remained unclear. The story of Mira BaiI had heard of Mira Bai but was unaware that she had lived in Chittorgarh. The spiritual poet was married to Bhoj Raj Singh, the crown prince of Mewar. She is among the most illustrious Bhakti Saints, and a temple in her honour stands within the fort. If you are in Chittorgarh for a day, like we were, I recommend visiting the following places, within the fort. Palaces in ChittorgarhThe ruins of the Rana Kumbha Palace are hauntingly beautiful. What a majestic palace it would have been. The panoramic view of the city, from here is quite amazing, especially with the sun setting in the background. Rani Padmini's Palace grabbed my attention, even though it stands abandoned, submerged in a pool of water. It would have been heavenly, in its prime. Temples in the fortConsidering the number of temples, within the fort, it seems that people then would have been extremely pious. There are several Jain temples in the fort, besides other famous temples, such as Adbuth Nath Mandir, Kshemankari Mandir and Kumbh Sham Mandir. The most famous temple is the one dedicated to Mira Bai.Victory towersThe most striking feature in the fort are the two victory towers – Vijay Stambh and Kirti Stambh. They are magnificent, tall and majestic with elaborate carvings. Rana Kumbha constructed the Vijay Stambh in 1448, to celebrate his triumph over Allaudin Khiji's army. The Kirti Stambh is older, and dates back to the 12th century, is believed to be constructed by a Jain trader. It is an imposing structure, standing tall at 22 metres.Reservoirs and step wells The amazing thing about all the forts in Rajasthan that I have visited is that they were exceptionally well planned, with ample water storage facilities. The same can be noticed at the Chittorgarh Fort – a rough estimate indicates that nearly 40% of the area was detailed for water bodies, in the form of step wells (baoli), reservoirs, lakes (talab) and huge wells (kund). Though, only a few remain today. Most have either dried up or taken over by shrubbery. The most fascinating reservoir and a popular tourist attraction is the Gaumukh. It still holds water and offers a lovely view. It gets its name from the cow-shaped spout that feeds the lake. It is believed to have been a bathing pool for the queens. We were told a secret passageway connects the lake to the palaces. \\n\\n\\n\\r\\n     (adsbygoogle = window.adsbygoogle || []).push({});\\r\\nShopping and foodOur trip to Chittorgarh ended with a tour of the shopping areas. Quite a few areas for shopping exist around the fort, such as Rana Sangha Market, Sadar Bazaar, Gandhi Chowk and Fort Road Market. And you can get some lovely bargains here. Most shops that we visited were willing to bargain and did bring down their prices, considerably. You can shop for a lot of traditional Rajasthani items.Fabric: Particularly, the very ethnic Akola vegetable dye printsThewa Jewellery: Exquisite pieces of gold and coloured glass ornamentsBassi handicraft: Handcrafted wooden toysCamel leather: Embroidered camel leather mojriKathputli: PuppetsRajasthani cuisine is different from typical Indian cuisine, it is rustic and flavourful. We had a scrumptious dinner at Choki Dhani.Travel tipsIt is a desert region and gets cold at night, so take along warm clothing, especially if you plan your vacation during winter months, as we did. I'd advise you to spend a couple of days in Chittorgarh and explore it; there is a lot to see here. Take a guide along, because you can get lost (figuratively) in the fort. Wear comfortable walking shoes. Carry water and something to munch. There were a few eateries in the fort area, but I wouldn't eat there.\\r\\n\\n\\nUdaipur is a gorgeous city with many historic places and palaces. The place has so many amazing Palaces that have a different story to tell. So I must say this is one of the best and great options for a summer trip.This is a very exhaustive and elaborate account of  Chittorgarh and also very informative. Our country is having many such attractive forts and old castles/ buildings which are not only of heritage importance to us but are a delight to the tourists and visitors. Every such place has a history of its own and there are tales of brevity and courage associated with them. The foreign invaders always considered India as a favourite destination to loot and collect gold from big temples and valuable from these forts and due to that the Indian kings ruling in these areas had to raise an army of people to fight with those invaders and their armies. Indians being a peace loving society never raised an army of bigger proportions and in spite of our people being bolder and more courageous than the invaders, we suffered in the wars and fights and lost significantly. These monuments are a memory of all those saga of courage and brevity in ancient India and when we visit these places we get a feel of that and become inspired and encouraged by those brave ancestors.Best Desert Camp in JaisalmerSam Sand Dunes Jaisalmer Camps -  Is one of the best place to enjoy the deluxe camp and tent in jaisalmer Rajasthan. It has one of the most Luxury Tents Camp in Jaisalmer. It truly glorifies the sweeping stretch of Thar Desert. Our purpose is to share the exceptional experience of the desert & culture of Jaisalmer with providing Luxury Swiss Tents in the traditional Desert environment with all types of modern facilities. We offer our tourists the best service with breathtaking annals.Hi, I love to travel the world but as you know that this covid situation is now have gone wrong but I will try to visit all the places that you have is listed. Thank You!Great informative article written by author. I had visited Chittorgarh around 10 years ago. It was a beautiful experience. It is not just a fort, it is actually a city established over a hill, there you can see residential palaces, temple, fort, victory towers and many more things.Very well described about temples places shopping and complete guide, Thanks a lotHey, Thanks for writing such an informational article.I am from Australia, Presently traveling India. I am in Udaipur & traveling to chittogarh.Your article will be a travel guide for me buddy. Thanks.I want to add that if anyone is looking for promotional products or custom made merchandise then kindly check:-https://www.arcticblue.net.au/Keep writing such a detailed & insightful article.Thanks again.Cheers :)THANK A LOT FOR SHARING\\r\\n        We believe in providing quality content to our readers. If you have any questions or concerns regarding any content published here, feel free to contact us using the Contact link below.\\r\\n    Digital Marketing by SpiderWorks Technologies, Kochi - India. ©\""
            ]
          },
          "metadata": {},
          "execution_count": 7
        }
      ]
    },
    {
      "cell_type": "code",
      "metadata": {
        "id": "_ldKb_rNP3LJ"
      },
      "source": [
        "def preprocessmyblog(text):\n",
        "    text=re.sub(r'\\d+', '', text)#remove number\n",
        "    text=text.lower()#lower case\n",
        "    translator = str.maketrans('', '', string.punctuation)\n",
        "    text=text.translate(translator)#remove punc\n",
        "    text=\" \".join(text.split())#extra space\n",
        "    stop_words = set(stopwords.words(\"english\"))\n",
        "    word_tokens = word_tokenize(text)\n",
        "    text = [word for word in word_tokens if word not in stop_words] #stop words removal\n",
        "    #text = [stemmer.stem(word) for word in text] #Stemming\n",
        "    #lemmas = [lemmatizer.lemmatize(word, pos ='v') for word in text] #Lemmatization\n",
        "    return text"
      ],
      "execution_count": null,
      "outputs": []
    },
    {
      "cell_type": "code",
      "metadata": {
        "id": "iOYWTYfLP_E8"
      },
      "source": [
        "text = preprocessmyblog(article_text)\n",
        "text= \" \".join(text)"
      ],
      "execution_count": null,
      "outputs": []
    },
    {
      "cell_type": "code",
      "metadata": {
        "colab": {
          "base_uri": "https://localhost:8080/",
          "height": 165
        },
        "id": "AYNfb6tsSY0p",
        "outputId": "8731cb09-a07c-468a-bb0c-86124f3c8223"
      },
      "source": [
        "text"
      ],
      "execution_count": null,
      "outputs": [
        {
          "output_type": "execute_result",
          "data": {
            "application/vnd.google.colaboratory.intrinsic+json": {
              "type": "string"
            },
            "text/plain": [
              "'visiting udaipur rajasthan plan one day trip chittorgarh fort deciding itinerary chittorgarh fort biggest fort india magnificent architecture vibrant exciting history valiant kings battles sieges tales romance jauhar udaipur friends sons wedding met bunch old friends extended stay days spent time exploring places interest around beautiful city time movie padmavat news hogging primetime debates national television eliciting quite controversy curiosity got better us couldnt resist urge visit chittorgarh famed site history created set early seated comfortably tempo traveller booked previous evening chittorgarh roughly km udaipur takes ½ hours reach comfortable stretch welllaid national highways mention good enough road trip bike car public transport two cities good adsbygoogle windowadsbygoogle push drivers assistant kuldip acted unofficial tour guide kuldip qualified part born brought parts many tale romance bravery share course none could authenticated constant jabber kept us engaged piqued interest chittorgarh historychittorgarh rich history gives sense hallowed ground many mighty warrior roamed lot see place capital mewar every structure standing bears testimony great heritage imposing fort striking temples spectacular palaces monumental towers story tell stand testimony honour valour passion loyalty sacrifice bygone era history chittorgarh captivating stories battles bloody siege tales heroism fortitude romance stories death destruction legends queens aristocratic women sacrificing lives jauhar fascinating stories power captivating eager audience years tales immortalised ballads folk songs one folklore around centuries recently caught nations attention famed rajput queen padmini also known rani padmavati legend beautiful queen lived chittorgarh th – th century tour chittorgarh fortonce youre cant stop awe place got goosebumps stood admiring sheer size grandeur fort magnificent structure standing atop metrehigh hill spreading across roughly acres offering panoramic views surrounding countryside distinction largest fort country must tell something size grandiosethe chittorgarh fort one eight sites rajasthan declared unesco world heritage sites concrete evidence built historians estimate raised th century reign mauryan empire splendour fort limited size dimensions also recognised unique wellperceived architecture artificially made reservoirs around fort pure genius — presence illustrates wellthoughtof construction medieval times water bodies designed could hold sufficient water meet water requirements fleet soldiers four years running seven gates lead fort main entrance called ram pol gates designed intelligently prevent enemy entering attacking fort see today ruins paint compelling picture glorious past everything run torn told around monuments still stand mainly palaces temples towers cenotaphs victory towers striking structures myths chittorgarhkuldip regaled us many anecdotes seemed farfetched legends part belief people one titbit shared us bhim one pandava built fort one night another fascinating story bhimlat kund one reservoirs got name myth bhim became thirsty water hilltop struck ground water appeared spot adsbygoogle windowadsbygoogle push legend rani padmini padmavatiaccording legend padmavati strikingly beautiful princess married raja ratan singh ruler mewar gorgeous good looks resulted central character numerous ballads narratives subject several folktales originating region famous piece credited sufi poet malik muhammad jayasi poem romanticised legendary queen giving mystical aura ballad titled padmavat reads like fairytale centring around talking parrots extolling beauty queen drama unfolded involving ratan singh allaudin khiji ending padmavat committing jauhar parts facts fiction knownstories akbars siege chittorgarhanother bit history shared kuldip akbar according story rana uday singhs son joined hands mughal emperor learn planning conquering chittorgarh son returned appraise rana uday singh narrative turned sketchy versions spoke rana winning others escaping… however vijay stambh within fort evidence battle whether rana defeated akbars army khiljis troupes remained unclear story mira baii heard mira bai unaware lived chittorgarh spiritual poet married bhoj raj singh crown prince mewar among illustrious bhakti saints temple honour stands within fort chittorgarh day like recommend visiting following places within fort palaces chittorgarhthe ruins rana kumbha palace hauntingly beautiful majestic palace would panoramic view city quite amazing especially sun setting background rani padminis palace grabbed attention even though stands abandoned submerged pool water would heavenly prime temples fortconsidering number temples within fort seems people would extremely pious several jain temples fort besides famous temples adbuth nath mandir kshemankari mandir kumbh sham mandir famous temple one dedicated mira baivictory towersthe striking feature fort two victory towers – vijay stambh kirti stambh magnificent tall majestic elaborate carvings rana kumbha constructed vijay stambh celebrate triumph allaudin khijis army kirti stambh older dates back th century believed constructed jain trader imposing structure standing tall metresreservoirs step wells amazing thing forts rajasthan visited exceptionally well planned ample water storage facilities noticed chittorgarh fort – rough estimate indicates nearly area detailed water bodies form step wells baoli reservoirs lakes talab huge wells kund though remain today either dried taken shrubbery fascinating reservoir popular tourist attraction gaumukh still holds water offers lovely view gets name cowshaped spout feeds lake believed bathing pool queens told secret passageway connects lake palaces adsbygoogle windowadsbygoogle push shopping foodour trip chittorgarh ended tour shopping areas quite areas shopping exist around fort rana sangha market sadar bazaar gandhi chowk fort road market get lovely bargains shops visited willing bargain bring prices considerably shop lot traditional rajasthani itemsfabric particularly ethnic akola vegetable dye printsthewa jewellery exquisite pieces gold coloured glass ornamentsbassi handicraft handcrafted wooden toyscamel leather embroidered camel leather mojrikathputli puppetsrajasthani cuisine different typical indian cuisine rustic flavourful scrumptious dinner choki dhanitravel tipsit desert region gets cold night take along warm clothing especially plan vacation winter months id advise spend couple days chittorgarh explore lot see take guide along get lost figuratively fort wear comfortable walking shoes carry water something munch eateries fort area wouldnt eat udaipur gorgeous city many historic places palaces place many amazing palaces different story tell must say one best great options summer tripthis exhaustive elaborate account chittorgarh also informative country many attractive forts old castles buildings heritage importance us delight tourists visitors every place history tales brevity courage associated foreign invaders always considered india favourite destination loot collect gold big temples valuable forts due indian kings ruling areas raise army people fight invaders armies indians peace loving society never raised army bigger proportions spite people bolder courageous invaders suffered wars fights lost significantly monuments memory saga courage brevity ancient india visit places get feel become inspired encouraged brave ancestorsbest desert camp jaisalmersam sand dunes jaisalmer camps one best place enjoy deluxe camp tent jaisalmer rajasthan one luxury tents camp jaisalmer truly glorifies sweeping stretch thar desert purpose share exceptional experience desert culture jaisalmer providing luxury swiss tents traditional desert environment types modern facilities offer tourists best service breathtaking annalshi love travel world know covid situation gone wrong try visit places listed thank yougreat informative article written author visited chittorgarh around years ago beautiful experience fort actually city established hill see residential palaces temple fort victory towers many thingsvery well described temples places shopping complete guide thanks lothey thanks writing informational articlei australia presently traveling india udaipur traveling chittogarhyour article travel guide buddy thanksi want add anyone looking promotional products custom made merchandise kindly checkhttpswwwarcticbluenetaukeep writing detailed insightful articlethanks againcheers thank lot sharing believe providing quality content readers questions concerns regarding content published feel free contact us using contact link digital marketing spiderworks technologies kochi india ©'"
            ]
          },
          "metadata": {},
          "execution_count": 10
        }
      ]
    },
    {
      "cell_type": "code",
      "metadata": {
        "id": "F4vo-U6nuIt-"
      },
      "source": [
        "import re\n",
        "from nltk.corpus import stopwords\n",
        "from nltk.stem.wordnet import WordNetLemmatizer\n",
        "\n",
        "stop_words = set(stopwords.words('english'))\n",
        "##Creating a list of custom stopwords\n",
        "#new_words = [\"definig the words you can stop\"]\n",
        "#stop_words = list(stop_words.union(new_words))\n",
        "\n",
        "def pre_process(text):\n",
        "    \n",
        "    # lowercase\n",
        "    text=text.lower()\n",
        "    \n",
        "    #remove tags\n",
        "    text=re.sub(\"&lt;/?.*?&gt;\",\" &lt;&gt; \",text)\n",
        "    \n",
        "    # remove special characters and digits\n",
        "    text=re.sub(\"(\\\\d|\\\\W)+\",\" \",text)\n",
        "    \n",
        "    ##Convert to list from string\n",
        "    text = text.split()\n",
        "    \n",
        "    # remove stopwords\n",
        "    text = [word for word in text if word not in stop_words]\n",
        "\n",
        "    # remove words less than three letters\n",
        "    text = [word for word in text if len(word) >= 3]\n",
        "\n",
        "    # lemmatize\n",
        "    lmtzr = WordNetLemmatizer()\n",
        "    text = [lmtzr.lemmatize(word) for word in text]\n",
        "    \n",
        "    return ' '.join(text)"
      ],
      "execution_count": null,
      "outputs": []
    },
    {
      "cell_type": "code",
      "metadata": {
        "colab": {
          "base_uri": "https://localhost:8080/",
          "height": 49,
          "referenced_widgets": [
            "fb92db6aa65041849e2c591e690c6fa4",
            "74578d7ccee04c6f8994820cd2e9dadb",
            "272d3e2a0d394105b1e1e42fd2777f91",
            "7d236d6925024777909b979c77aa0534",
            "e5ae28a6f00b434790a49092b363d1b0",
            "b1a268e8edce47438b951c4a14cfab84",
            "cff53ba6b33a4b20acf3114092607aca",
            "8641106491534c7a9cc6d379ab7f7b1b",
            "993c51c4fc5240acb2e31019fe7869dc",
            "3ccc8d4217fd4e4cac46bbeda138b98a",
            "5f79e43993e24a1bb6c10aa7c026decd"
          ]
        },
        "id": "53vD4l3o9qoo",
        "outputId": "ef0af43a-e0b1-47ac-a03e-fb79005fabc6"
      },
      "source": [
        "from keybert import KeyBERT\n",
        "\n",
        "model = KeyBERT(model=\"distilbert-base-nli-mean-tokens\")\n"
      ],
      "execution_count": null,
      "outputs": [
        {
          "output_type": "display_data",
          "data": {
            "application/vnd.jupyter.widget-view+json": {
              "model_id": "fb92db6aa65041849e2c591e690c6fa4",
              "version_minor": 0,
              "version_major": 2
            },
            "text/plain": [
              "  0%|          | 0.00/245M [00:00<?, ?B/s]"
            ]
          },
          "metadata": {}
        }
      ]
    },
    {
      "cell_type": "code",
      "metadata": {
        "id": "wjsxi3Ma9Axi"
      },
      "source": [
        "def _keybert(blog):\n",
        "  first=model.extract_keywords(\n",
        "      blog,\n",
        "      top_n=10,\n",
        "      keyphrase_ngram_range=(1, 3),\n",
        "      stop_words=\"english\",\n",
        "      use_mmr=True,                   #Maximal Marginal Relevance for the selection of keywords/keyphrases\n",
        "      diversity=0.5                  #diversity: The diversity of the results between 0 and 1 if use_mmr is set to True\n",
        "      )\n",
        "  return first"
      ],
      "execution_count": null,
      "outputs": []
    },
    {
      "cell_type": "code",
      "metadata": {
        "id": "PhawXppi92zO"
      },
      "source": [
        "key=_keybert(text)"
      ],
      "execution_count": null,
      "outputs": []
    },
    {
      "cell_type": "code",
      "metadata": {
        "colab": {
          "base_uri": "https://localhost:8080/"
        },
        "id": "T8rflBAUXNlg",
        "outputId": "62b26d50-d7f0-415d-eeb6-7139dfabe8ad"
      },
      "source": [
        "for i in key:\n",
        "  print(i,'\\n')"
      ],
      "execution_count": null,
      "outputs": [
        {
          "output_type": "stream",
          "name": "stdout",
          "text": [
            "('hogging primetime debates', 0.536) \n",
            "\n",
            "('friends sons wedding', 0.4314) \n",
            "\n",
            "('rajasthan luxury tents', 0.4187) \n",
            "\n",
            "('reservoir popular tourist', 0.3953) \n",
            "\n",
            "('talking parrots extolling', 0.2731) \n",
            "\n",
            "('summer tripthis exhaustive', 0.3728) \n",
            "\n",
            "('plan vacation winter', 0.405) \n",
            "\n",
            "('destruction legends queens', 0.3484) \n",
            "\n",
            "('forts old castles', 0.3371) \n",
            "\n",
            "('ballads folk songs', 0.3771) \n",
            "\n"
          ]
        }
      ]
    }
  ]
}